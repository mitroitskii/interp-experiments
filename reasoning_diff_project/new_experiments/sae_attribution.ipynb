{
 "cells": [
  {
   "cell_type": "code",
   "execution_count": null,
   "metadata": {},
   "outputs": [],
   "source": [
    "from IPython.display import clear_output\n",
    "import nnsight\n",
    "import plotly.express as px\n",
    "import plotly.io as pio\n",
    "pio.renderers.default = \"plotly_mimetype+notebook_connected+colab+notebook\"\n",
    "from nnsight import LanguageModel, util\n",
    "import einops"
   ]
  },
  {
   "cell_type": "code",
   "execution_count": null,
   "metadata": {},
   "outputs": [],
   "source": [
    "llm = LanguageModel(\"deepseek-ai/DeepSeek-R1-Distill-Llama-8B\")\n",
    "print(llm)"
   ]
  },
  {
   "cell_type": "code",
   "execution_count": null,
   "metadata": {},
   "outputs": [],
   "source": [
    "import torch\n",
    "prompt = \"\"\"<｜User｜>If eating peanuts causes allergic reactions in some people, and Lisa had an allergic reaction, can you conclude she ate peanuts?<｜Assistant｜><think>\n",
    "Okay, so I'm trying to figure out if I can conclude that Lisa ate peanuts just because she had an allergic reaction. Hmm, let's break this down. First, I know that some people have allergies, right? Like, if someone is allergic to peanuts, eating them can cause reactions like itching, sneezing, or maybe even swelling. So, if Lisa had an allergic reaction, does that automatically mean she ate peanuts?\"\"\"\n",
    "torch.manual_seed(42)"
   ]
  },
  {
   "cell_type": "code",
   "execution_count": null,
   "metadata": {},
   "outputs": [],
   "source": [
    "with llm.trace(batch_encoding):\n",
    "    # get gradients of activations\n",
    "\n",
    "    layer = llm.model.layers[20]\n",
    "    x = layer.output[0]\n",
    "    g = x.grad\n",
    "\n",
    "    sae_latents = ns.apply(sae.simple_encode, x)\n",
    "\n",
    "\n",
    "    effect = (\n",
    "        einops.einsum(\n",
    "            sae.W_dec,\n",
    "            g,\n",
    "            \"d_sae d_model, batch seq d_model -> batch seq d_sae\",\n",
    "        )\n",
    "        * sae_latents\n",
    "    )\n",
    "    effect = effect.sum(dim=(0, 1)).save()"
   ]
  }
 ],
 "metadata": {
  "kernelspec": {
   "display_name": "newmats",
   "language": "python",
   "name": "python3"
  },
  "language_info": {
   "name": "python",
   "version": "3.12.0"
  }
 },
 "nbformat": 4,
 "nbformat_minor": 2
}
