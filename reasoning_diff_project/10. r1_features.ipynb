{
 "cells": [
  {
   "cell_type": "code",
   "execution_count": 1,
   "id": "a482d532",
   "metadata": {},
   "outputs": [
    {
     "name": "stderr",
     "output_type": "stream",
     "text": [
      "/share/u/koyena/miniconda3/envs/newmats/lib/python3.12/site-packages/tqdm/auto.py:21: TqdmWarning: IProgress not found. Please update jupyter and ipywidgets. See https://ipywidgets.readthedocs.io/en/stable/user_install.html\n",
      "  from .autonotebook import tqdm as notebook_tqdm\n",
      "Xet Storage is enabled for this repo, but the 'hf_xet' package is not installed. Falling back to regular HTTP download. For better performance, install the package with: `pip install huggingface_hub[hf_xet]` or `pip install hf_xet`\n"
     ]
    }
   ],
   "source": [
    "import sqlite3\n",
    "import pandas as pd\n",
    "from sentence_transformers import SentenceTransformer\n",
    "from sklearn.metrics.pairwise import cosine_similarity\n",
    "\n",
    "# Load embedding model\n",
    "model = SentenceTransformer('all-MiniLM-L6-v2')\n",
    "\n",
    "# Define semantic concept vector\n",
    "math_concept = \"mathematical concept\"\n",
    "math_vector = model.encode([math_concept])\n"
   ]
  },
  {
   "cell_type": "code",
   "execution_count": null,
   "id": "f1232500",
   "metadata": {},
   "outputs": [],
   "source": [
    "# Connect to your DB\n",
    "conn = sqlite3.connect(\"data/autointerp.db\")  # change this to your file\n",
    "df = pd.read_sql_query(\"SELECT label, indices FROM autointerp\", conn)\n",
    "\n",
    "# Generate embeddings for all labels\n",
    "label_embeddings = model.encode(df['label'].tolist())"
   ]
  },
  {
   "cell_type": "code",
   "execution_count": 4,
   "id": "93d4c7a1",
   "metadata": {},
   "outputs": [],
   "source": [
    "\n",
    "# Compute similarity with the \"math\" concept\n",
    "similarities = cosine_similarity(label_embeddings, math_vector)"
   ]
  },
  {
   "cell_type": "code",
   "execution_count": 7,
   "id": "fe0ce495",
   "metadata": {},
   "outputs": [
    {
     "name": "stdout",
     "output_type": "stream",
     "text": [
      "                                                   label  \\\n",
      "7       Mathematical calculation and numerical reasoning   \n",
      "10                     Mathematical constraint reasoning   \n",
      "14     Code assignment operations in mathematical con...   \n",
      "27     Numbers written on physical objects in problem...   \n",
      "41           Beginning of LaTeX mathematical expressions   \n",
      "...                                                  ...   \n",
      "23423       Mathematical notation and programming syntax   \n",
      "23432             Programming and algorithm explanations   \n",
      "23437       Algorithmic and mathematical problem-solving   \n",
      "23468                 Mathematical optimization problems   \n",
      "23521                   Mathematical addition operations   \n",
      "\n",
      "                                                 indices  \n",
      "7                                                     []  \n",
      "10                                                    []  \n",
      "14                                                    []  \n",
      "27                                                    []  \n",
      "41     [969, 796, 1365, 1623, 1422, 879, 1166, 1322, ...  \n",
      "...                                                  ...  \n",
      "23423                                                 []  \n",
      "23432                                                 []  \n",
      "23437                                                 []  \n",
      "23468                                                 []  \n",
      "23521                                                 []  \n",
      "\n",
      "[2202 rows x 2 columns]\n"
     ]
    }
   ],
   "source": [
    "\n",
    "# Add similarity scores to DataFrame\n",
    "df['similarity_to_math'] = similarities[:, 0]\n",
    "\n",
    "# Set a threshold for \"math-related\" (you can tune this!)\n",
    "math_df = df[df['similarity_to_math'] > 0.4]  # try 0.4–0.6 and adjust as needed\n",
    "\n",
    "# Show label and indices\n",
    "print(math_df[['label', 'indices']])"
   ]
  },
  {
   "cell_type": "code",
   "execution_count": 8,
   "id": "9ae27fb9",
   "metadata": {},
   "outputs": [],
   "source": [
    "math_df[['label', 'indices']].to_csv(\"r1_math_features.csv\")"
   ]
  }
 ],
 "metadata": {
  "kernelspec": {
   "display_name": "newmats",
   "language": "python",
   "name": "python3"
  },
  "language_info": {
   "codemirror_mode": {
    "name": "ipython",
    "version": 3
   },
   "file_extension": ".py",
   "mimetype": "text/x-python",
   "name": "python",
   "nbconvert_exporter": "python",
   "pygments_lexer": "ipython3",
   "version": "3.12.0"
  }
 },
 "nbformat": 4,
 "nbformat_minor": 5
}
